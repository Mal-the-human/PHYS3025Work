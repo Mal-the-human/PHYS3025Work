{
  "nbformat": 4,
  "nbformat_minor": 0,
  "metadata": {
    "colab": {
      "provenance": [],
      "include_colab_link": true
    },
    "kernelspec": {
      "name": "python3",
      "display_name": "Python 3"
    },
    "language_info": {
      "name": "python"
    }
  },
  "cells": [
    {
      "cell_type": "markdown",
      "metadata": {
        "id": "view-in-github",
        "colab_type": "text"
      },
      "source": [
        "<a href=\"https://colab.research.google.com/github/Mal-the-human/PHYS3025Work/blob/main/Copy_of_PHYS_3025_Activity_1.ipynb\" target=\"_parent\"><img src=\"https://colab.research.google.com/assets/colab-badge.svg\" alt=\"Open In Colab\"/></a>"
      ]
    },
    {
      "cell_type": "markdown",
      "source": [
        "This is adapted from Python tutorials by P. L. Lim, Adrian Price-Whelan, Kelle Cruz, and Stephanie T. Douglas with the AstroPy Foundation. I've modified them a bit to match our needs.\n",
        "For the original cone search tutorial you can visit: https://learn.astropy.org/tutorials/conesearch.html . I've updated it to avoid errors and didn't use the last part but you can look there to see how to search more than one catalog at once and time the searches as well.\n",
        "For the rest of the tutorial I based it on https://learn.astropy.org/tutorials/plot-catalog.html but the text files aren't available so we're using search methods to get data."
      ],
      "metadata": {
        "id": "WWjAHKXZscCa"
      }
    },
    {
      "cell_type": "markdown",
      "source": [
        "**The first few steps are just examples to get you started and learn the syntax for calling some of the tools in Astropy. Just click the arrow button to run the code. Note that you'll have to import each time you re-open the code.**"
      ],
      "metadata": {
        "id": "By7hAo96IXyy"
      }
    },
    {
      "cell_type": "code",
      "source": [
        "# Python standard library\n",
        "import time\n",
        "import warnings\n",
        "\n",
        "# Third-party software\n",
        "import numpy as np\n",
        "\n",
        "# Astropy\n",
        "from astropy import coordinates as coord\n",
        "from astropy import units as u\n",
        "from astropy.table import Table\n",
        "\n",
        "# Astroquery. This tutorial requires 0.3.5 or greater.\n",
        "!pip install astroquery #note we need to install it manually using !pip install\n",
        "import astroquery\n",
        "from astroquery.simbad import Simbad\n",
        "from astroquery.vo_conesearch import conf, conesearch, vos_catalog\n",
        "\n",
        "# Set up matplotlib\n",
        "import matplotlib.pyplot as plt\n",
        "%matplotlib inline"
      ],
      "metadata": {
        "id": "R1rbGs9tsbU4",
        "colab": {
          "base_uri": "https://localhost:8080/"
        },
        "outputId": "aa33e3f9-09d5-4f93-9a17-8829d978b0a0"
      },
      "execution_count": null,
      "outputs": [
        {
          "output_type": "stream",
          "name": "stdout",
          "text": [
            "Requirement already satisfied: astroquery in /usr/local/lib/python3.10/dist-packages (0.4.6)\n",
            "Requirement already satisfied: numpy>=1.16 in /usr/local/lib/python3.10/dist-packages (from astroquery) (1.23.5)\n",
            "Requirement already satisfied: astropy>=4.0 in /usr/local/lib/python3.10/dist-packages (from astroquery) (5.3.3)\n",
            "Requirement already satisfied: requests>=2.4.3 in /usr/local/lib/python3.10/dist-packages (from astroquery) (2.31.0)\n",
            "Requirement already satisfied: beautifulsoup4>=4.3.2 in /usr/local/lib/python3.10/dist-packages (from astroquery) (4.11.2)\n",
            "Requirement already satisfied: html5lib>=0.999 in /usr/local/lib/python3.10/dist-packages (from astroquery) (1.1)\n",
            "Requirement already satisfied: keyring>=4.0 in /usr/lib/python3/dist-packages (from astroquery) (23.5.0)\n",
            "Requirement already satisfied: pyvo>=1.1 in /usr/local/lib/python3.10/dist-packages (from astroquery) (1.4.2)\n",
            "Requirement already satisfied: pyerfa>=2.0 in /usr/local/lib/python3.10/dist-packages (from astropy>=4.0->astroquery) (2.0.0.3)\n",
            "Requirement already satisfied: PyYAML>=3.13 in /usr/local/lib/python3.10/dist-packages (from astropy>=4.0->astroquery) (6.0.1)\n",
            "Requirement already satisfied: packaging>=19.0 in /usr/local/lib/python3.10/dist-packages (from astropy>=4.0->astroquery) (23.1)\n",
            "Requirement already satisfied: soupsieve>1.2 in /usr/local/lib/python3.10/dist-packages (from beautifulsoup4>=4.3.2->astroquery) (2.5)\n",
            "Requirement already satisfied: six>=1.9 in /usr/local/lib/python3.10/dist-packages (from html5lib>=0.999->astroquery) (1.16.0)\n",
            "Requirement already satisfied: webencodings in /usr/local/lib/python3.10/dist-packages (from html5lib>=0.999->astroquery) (0.5.1)\n",
            "Requirement already satisfied: charset-normalizer<4,>=2 in /usr/local/lib/python3.10/dist-packages (from requests>=2.4.3->astroquery) (3.2.0)\n",
            "Requirement already satisfied: idna<4,>=2.5 in /usr/local/lib/python3.10/dist-packages (from requests>=2.4.3->astroquery) (3.4)\n",
            "Requirement already satisfied: urllib3<3,>=1.21.1 in /usr/local/lib/python3.10/dist-packages (from requests>=2.4.3->astroquery) (2.0.4)\n",
            "Requirement already satisfied: certifi>=2017.4.17 in /usr/local/lib/python3.10/dist-packages (from requests>=2.4.3->astroquery) (2023.7.22)\n"
          ]
        }
      ]
    },
    {
      "cell_type": "markdown",
      "source": [
        "We'll be using ConeSearch first. To start, it might be useful to list the available Cone Search catalogs first. By default, catalogs that pass nightly validation are included. Validation is hosted by Space Telescope Science Institute (STScI)."
      ],
      "metadata": {
        "id": "bhki3WUYtQuu"
      }
    },
    {
      "cell_type": "code",
      "source": [
        "conesearch.list_catalogs()"
      ],
      "metadata": {
        "id": "uSo-eHOgsbgp",
        "outputId": "4cd4ea9d-e8f5-4137-e203-309c8a338332",
        "colab": {
          "base_uri": "https://localhost:8080/"
        }
      },
      "execution_count": null,
      "outputs": [
        {
          "output_type": "execute_result",
          "data": {
            "text/plain": [
              "['2MASS All-Sky Catalog of Point Sources 1',\n",
              " 'Gaia DR2 5',\n",
              " 'Guide Star Catalog 2.3 Cone Search 1',\n",
              " 'The HST Guide Star Catalog, Version 1.1 1',\n",
              " 'The HST Guide Star Catalog, Version 1.2 1',\n",
              " 'The HST Guide Star Catalog, Version GSC-ACT 1',\n",
              " 'The PMM USNO-A1.0 Catalogue 1',\n",
              " 'The USNO-A2.0 Catalogue 1',\n",
              " 'The USNO-B1.0 Catalog 2']"
            ]
          },
          "metadata": {},
          "execution_count": 19
        }
      ]
    },
    {
      "cell_type": "markdown",
      "source": [
        "Next, pick an astronomical object of interest. For example, M31. **You are not required to use the star you looked up on Simbad. It is okay to use M31 in these examples.**"
      ],
      "metadata": {
        "id": "216GqkFVte8i"
      }
    },
    {
      "cell_type": "code",
      "source": [
        "c = coord.SkyCoord.from_name('NGC 869/884', frame='icrs')\n",
        "print(c)"
      ],
      "metadata": {
        "id": "tG3gwZDztWS5",
        "outputId": "00098c03-5718-4bd6-fd8a-3eb2cb7c46d2",
        "colab": {
          "base_uri": "https://localhost:8080/"
        }
      },
      "execution_count": null,
      "outputs": [
        {
          "output_type": "stream",
          "name": "stdout",
          "text": [
            "<SkyCoord (ICRS): (ra, dec) in deg\n",
            "    (35.125, 57.133)>\n"
          ]
        }
      ]
    },
    {
      "cell_type": "markdown",
      "source": [
        "\n",
        "\n",
        "By default, a basic Cone Search goes through the list of catalogs and stops at the first one that returns non-empty VO table. Let's search for objects within 0.1 degree around M31. You will see a lot of warnings that were generated by VO table parser but ignored by Cone Search service validator. VO compliance enforced by Cone Search providers is beyond the control of astroquery.vo_conesearch package.\n",
        "\n",
        "The result is an[ Astropy](https://http://astropy.readthedocs.io/en/stable/table/index.html) table.\n"
      ],
      "metadata": {
        "id": "sCJjZIcTtpkE"
      }
    },
    {
      "cell_type": "code",
      "source": [
        "result = conesearch.conesearch(c, 0.1 * u.degree)"
      ],
      "metadata": {
        "id": "MBf-fPBAtkVm",
        "outputId": "e1ee26d3-6604-439e-e920-25d719b4f7c3",
        "colab": {
          "base_uri": "https://localhost:8080/"
        }
      },
      "execution_count": null,
      "outputs": [
        {
          "output_type": "stream",
          "name": "stdout",
          "text": [
            "Trying http://vizier.unistra.fr/viz-bin/conesearch/II/246/out?\n"
          ]
        }
      ]
    },
    {
      "cell_type": "code",
      "source": [
        "print('First non-empty table returned by', result.url)\n",
        "print('Number of rows is', len(result))"
      ],
      "metadata": {
        "id": "FXAw5KaWty1v",
        "outputId": "800723b4-c6e3-47c5-fd11-6ac13ea4bf26",
        "colab": {
          "base_uri": "https://localhost:8080/"
        }
      },
      "execution_count": null,
      "outputs": [
        {
          "output_type": "stream",
          "name": "stdout",
          "text": [
            "First non-empty table returned by http://vizier.unistra.fr/viz-bin/conesearch/II/246/out?\n",
            "Number of rows is 868\n"
          ]
        }
      ]
    },
    {
      "cell_type": "code",
      "source": [
        "print(result)"
      ],
      "metadata": {
        "id": "p0EiuVMot6kx",
        "outputId": "e5850569-f44e-43a0-a884-c65521a8182b",
        "colab": {
          "base_uri": "https://localhost:8080/"
        }
      },
      "execution_count": null,
      "outputs": [
        {
          "output_type": "stream",
          "name": "stdout",
          "text": [
            "   _r     RAJ2000    DEJ2000   errMaj errMin ... scanKey coaddKey coadd Opt\n",
            "            deg        deg     arcsec arcsec ...                           \n",
            "-------- ---------- ---------- ------ ------ ... ------- -------- ----- ---\n",
            "0.099899  34.996952  57.061295   0.06   0.06 ...   40975   942413   126 Opt\n",
            "0.087569  34.967979  57.112926   0.26   0.22 ...   40975   942413   126 Opt\n",
            "0.084799  34.993373  57.087372   0.19   0.18 ...   40975   942413   126 Opt\n",
            "0.085496  34.970675  57.115910   0.07   0.07 ...   40975   942413   126 Opt\n",
            "0.085595  34.969590  57.118492   0.06   0.06 ...   40975   942413   126 Opt\n",
            "0.089241  34.996762  57.077202   0.06   0.06 ...   40975   942413   126 Opt\n",
            "0.093747  34.998035  57.069496   0.07   0.07 ...   40975   942413   126 Opt\n",
            "0.085753  34.970583  57.114899   0.07   0.07 ...   40975   942413   126 Opt\n",
            "0.089049  34.967177  57.108727   0.06   0.06 ...   40975   942413   126 Opt\n",
            "0.098176  34.987687  57.069157   0.15   0.14 ...   40975   942413   126 Opt\n",
            "     ...        ...        ...    ...    ... ...     ...      ...   ... ...\n",
            "0.099399  35.244990  57.208157   0.06   0.06 ...   40976   942438   150 Opt\n",
            "0.086195  35.199861  57.209042   0.06   0.06 ...   40976   942438   150 Opt\n",
            "0.090354  35.188100  57.216629   0.06   0.06 ...   40976   942438   150 Opt\n",
            "0.098922  35.194962  57.224365   0.07   0.06 ...   40976   942438   150 Opt\n",
            "0.094119  35.198233  57.218338   0.20   0.18 ...   40976   942438   150 Opt\n",
            "0.098309  35.197609  57.223087   0.06   0.06 ...   40976   942438   150 Opt\n",
            "0.098386  35.256336  57.200890   0.19   0.18 ...   40976   942438   150 Opt\n",
            "0.097982  35.273322  57.188957   0.19   0.16 ...   40976   942438   150 Opt\n",
            "0.095607  35.269061  57.188114   0.07   0.07 ...   40977   942459   126 Opt\n",
            "0.097382  35.256211  57.199497   0.08   0.08 ...   40976   942438   150 Opt\n",
            "Length = 868 rows\n"
          ]
        }
      ]
    },
    {
      "cell_type": "markdown",
      "source": [
        "This table can be manipulated like any other Astropy table; e.g., re-write the table into LaTeX format."
      ],
      "metadata": {
        "id": "S5R2HpbOuHgL"
      }
    },
    {
      "cell_type": "code",
      "source": [
        "result.write('my_result.tex', format='ascii.latex', overwrite=True)"
      ],
      "metadata": {
        "id": "XyyHyKIAuB4L"
      },
      "execution_count": null,
      "outputs": []
    },
    {
      "cell_type": "markdown",
      "source": [
        "\n",
        "\n",
        "You can now use your favorite text editor to open the my_result.tex file, but here, we are going to read it back into another Astropy table.\n",
        "\n",
        "Note that the extra data_start=4 option is necessary due to the non-roundtripping nature of LaTeX reader/writer (see astropy issue [5205](https://github.com/astropy/astropy/issues/5205)).\n"
      ],
      "metadata": {
        "id": "P-nWqyHluRHv"
      }
    },
    {
      "cell_type": "code",
      "source": [
        "result_tex = Table.read('my_result.tex', format='ascii.latex', data_start=4)\n",
        "print(result_tex)\n"
      ],
      "metadata": {
        "id": "az3igcZQuLb6",
        "outputId": "8bc69c5d-a402-4ef0-80eb-76a9648b1f16",
        "colab": {
          "base_uri": "https://localhost:8080/"
        }
      },
      "execution_count": null,
      "outputs": [
        {
          "output_type": "stream",
          "name": "stdout",
          "text": [
            "   _r     RAJ2000   DEJ2000  errMaj errMin ... extKey scanKey coaddKey coadd Opt\n",
            "-------- --------- --------- ------ ------ ... ------ ------- -------- ----- ---\n",
            "0.099899 34.996952 57.061295   0.06   0.06 ...     --   40975   942413   126 Opt\n",
            "0.087569 34.967979 57.112926   0.26   0.22 ...     --   40975   942413   126 Opt\n",
            "0.084799 34.993373 57.087372   0.19   0.18 ...     --   40975   942413   126 Opt\n",
            "0.085496 34.970675  57.11591   0.07   0.07 ...     --   40975   942413   126 Opt\n",
            "0.085595  34.96959 57.118492   0.06   0.06 ...     --   40975   942413   126 Opt\n",
            "0.089241 34.996762 57.077202   0.06   0.06 ...     --   40975   942413   126 Opt\n",
            "0.093747 34.998035 57.069496   0.07   0.07 ...     --   40975   942413   126 Opt\n",
            "0.085753 34.970583 57.114899   0.07   0.07 ...     --   40975   942413   126 Opt\n",
            "0.089049 34.967177 57.108727   0.06   0.06 ...     --   40975   942413   126 Opt\n",
            "0.098176 34.987687 57.069157   0.15   0.14 ...     --   40975   942413   126 Opt\n",
            "     ...       ...       ...    ...    ... ...    ...     ...      ...   ... ...\n",
            "0.093514 35.207835 57.215027   0.29   0.28 ...     --   40976   942438   150 Opt\n",
            "0.099399  35.24499 57.208157   0.06   0.06 ...     --   40976   942438   150 Opt\n",
            "0.086195 35.199861 57.209042   0.06   0.06 ...     --   40976   942438   150 Opt\n",
            "0.090354   35.1881 57.216629   0.06   0.06 ...     --   40976   942438   150 Opt\n",
            "0.098922 35.194962 57.224365   0.07   0.06 ...     --   40976   942438   150 Opt\n",
            "0.094119 35.198233 57.218338    0.2   0.18 ...     --   40976   942438   150 Opt\n",
            "0.098309 35.197609 57.223087   0.06   0.06 ...     --   40976   942438   150 Opt\n",
            "0.098386 35.256336  57.20089   0.19   0.18 ...     --   40976   942438   150 Opt\n",
            "0.097982 35.273322 57.188957   0.19   0.16 ...     --   40976   942438   150 Opt\n",
            "0.095607 35.269061 57.188114   0.07   0.07 ...     --   40977   942459   126 Opt\n",
            "0.097382 35.256211 57.199497   0.08   0.08 ...     --   40976   942438   150 Opt\n",
            "Length = 868 rows\n"
          ]
        }
      ]
    },
    {
      "cell_type": "markdown",
      "source": [
        "Cone Search results can also be used in conjuction with other types of queries. For example, you can query SIMBAD for the first entry in your result above.\n"
      ],
      "metadata": {
        "id": "dRtTcMFiuenS"
      }
    },
    {
      "cell_type": "code",
      "source": [
        "# Due to the unpredictability of external services,\n",
        "# The first successful query result (above) might differ\n",
        "# from run to run.\n",
        "#\n",
        "# CHANGE THESE VALUES to the appropriate RA and DEC\n",
        "# column names you see above, if necessary.\n",
        "# These are for http://gsss.stsci.edu/webservices/vo/ConeSearch.aspx?CAT=GSC23&\n",
        "ra_colname = 'RAJ2000'\n",
        "dec_colname = 'DEJ2000'\n",
        "# Don't run this cell if column names above are invalid.\n",
        "if ra_colname in result.colnames and dec_colname in result.colnames:\n",
        "    row = result[0]\n",
        "    simbad_obj = coord.SkyCoord(ra=row[ra_colname]*u.deg, dec=row[dec_colname]*u.deg)\n",
        "    print('Searching SIMBAD for\\n{}\\n'.format(simbad_obj))\n",
        "    simbad_result = Simbad.query_region(simbad_obj, radius=5*u.arcsec)\n",
        "    print(simbad_result)\n",
        "else:\n",
        "    print('{} or {} not in search results. Choose from: {}'.format(\n",
        "        ra_colname, dec_colname, ' '.join(result.colnames)))"
      ],
      "metadata": {
        "id": "j5RCJ0uxuQLV",
        "outputId": "825e7f64-af26-4454-92f5-aabaced25f75",
        "colab": {
          "base_uri": "https://localhost:8080/"
        }
      },
      "execution_count": null,
      "outputs": [
        {
          "output_type": "stream",
          "name": "stdout",
          "text": [
            "Searching SIMBAD for\n",
            "<SkyCoord (ICRS): (ra, dec) in deg\n",
            "    (34.996952, 57.061295)>\n",
            "\n",
            "        MAIN_ID              RA      ...     COO_BIBCODE     SCRIPT_NUMBER_ID\n",
            "                          \"h:m:s\"    ...                                     \n",
            "----------------------- ------------ ... ------------------- ----------------\n",
            "2MASS J02195926+5703406 02 19 59.268 ... 2003yCat.2246....0C                1\n"
          ]
        }
      ]
    },
    {
      "cell_type": "markdown",
      "source": [
        "Now back to Cone Search... You can extract metadata of this Cone Search catalog."
      ],
      "metadata": {
        "id": "z-lzg0Rbus8N"
      }
    },
    {
      "cell_type": "code",
      "source": [
        "my_db = vos_catalog.get_remote_catalog_db(conf.conesearch_dbname)\n",
        "my_cat = my_db.get_catalog_by_url(result.url)\n",
        "print(my_cat.dumps())"
      ],
      "metadata": {
        "id": "rkL8N4c2ulQG",
        "outputId": "65bbf917-2cc3-4340-ae50-4caf25f38a9e",
        "colab": {
          "base_uri": "https://localhost:8080/"
        }
      },
      "execution_count": null,
      "outputs": [
        {
          "output_type": "stream",
          "name": "stdout",
          "text": [
            "{\n",
            "    \"authenticated_only\": 0,\n",
            "    \"cap_description\": \"Cone search capability for table II/246/out (2MASS Point Source Catalogue, output (on a total of 470,992,970 sources))\",\n",
            "    \"cap_index\": 4,\n",
            "    \"cap_type\": \"conesearch\",\n",
            "    \"content_level\": \"research\",\n",
            "    \"content_type\": \"catalog\",\n",
            "    \"created\": \"1/10/2008 11:19:42 PM\",\n",
            "    \"creator_seq\": \"\",\n",
            "    \"duplicatesIgnored\": 4,\n",
            "    \"intf_index\": 1,\n",
            "    \"intf_role\": \"std\",\n",
            "    \"intf_type\": \"vs:paramhttp\",\n",
            "    \"ivoid\": \"ivo://cds.vizier/ii/246\",\n",
            "    \"mirror_url\": \"https://vizier.iucaa.in/viz-bin/conesearch/II/246/out?#http://vizieridia.saao.ac.za/viz-bin/conesearch/II/246/out?\",\n",
            "    \"query_type\": \"\",\n",
            "    \"reference_url\": \"http://cdsarc.unistra.fr/cgi-bin/cat/II/246\",\n",
            "    \"region_of_regard\": NaN,\n",
            "    \"res_description\": \"The Two Micron All Sky Survey (2MASS) project is designed to close the gap between our current technical capability and our knowledge of the near-infrared sky. In addition to providing a context for the interpretation of results obtained at infrared and other wavelengths, 2MASS will provide direct answers to immediate questions on the large-scale structure of the Milky Way and the Local Universe. To achieve these goals, 2MASS is uniformly scanning the entire sky in three near-infrared bands to detect and characterize point sources brighter than about 1 mJy in each band, with signal-to-noise ratio (SNR) greater than 10, using a pixel size of 2.0\\\". This will achieve an 80,000-fold improvement in sensitivity relative to earlier surveys. 2MASS uses two new, highly-automated 1.3-m telescopes, one at Mt. Hopkins, AZ, and one at CTIO, Chile. Each telescope is equipped with a three-channel camera, each channel consisting of a 256x256 array of HgCdTe detectors, capable of observing the sky simultaneously at J (1.25 {mu}m), H (1.65 {mu}m), and Ks (2.17 {mu}m), to a 3{sigma} limiting sensitivity of 17.1, 16.4 and 15.3mag in the three bands. The 2MASS arrays image the sky while the telescopes scan smoothly in declination at a rate of ~1' per second. The 2MASS data \\\"tiles\\\" are 6 deg. long in the declination direction and one camera frame (8.5') wide. The camera field-of-view shifts by ~1/6 of a frame in declination from frame-to-frame. The camera images each point on the sky six times for a total integration time of 7.8 s, with sub-pixel \\\"dithering\\\", which improves the ultimate spatial resolution of the final Atlas Images. The University of Massachusetts (UMass) is responsible for the overall management of the project, and for developing the infrared cameras and on-site computing systems at both facilities. The Infrared Processing and Analysis Center (IPAC) is responsible for all data processing through the Production Pipeline, and construction and distribution of the data products. The 2MASS project involves the participation of members of the Science Team from several different institutions. The 2MASS project is funding by the National Aeronautics and Space Administration (NASA) and the National Science Foundation (NSF).\",\n",
            "    \"res_subject\": \"Infrared astronomy\",\n",
            "    \"res_type\": \"vs:catalogservice\",\n",
            "    \"res_version\": \"\",\n",
            "    \"result_type\": \"\",\n",
            "    \"rights\": \"public\",\n",
            "    \"rights_uri\": \"\",\n",
            "    \"short_name\": \"II/246\",\n",
            "    \"source_format\": \"bibcode\",\n",
            "    \"source_value\": \"2003yCat.2246....0C\",\n",
            "    \"standard_id\": \"ivo://ivoa.net/std/conesearch\",\n",
            "    \"std_version\": \"\",\n",
            "    \"title\": \"2MASS All-Sky Catalog of Point Sources\",\n",
            "    \"updated\": \"10/21/2021 12:00:00 AM\",\n",
            "    \"url\": \"http://vizier.unistra.fr/viz-bin/conesearch/II/246/out?\",\n",
            "    \"url_use\": \"base\",\n",
            "    \"validate_expected\": \"good\",\n",
            "    \"validate_network_error\": null,\n",
            "    \"validate_nexceptions\": 0,\n",
            "    \"validate_nwarnings\": 14,\n",
            "    \"validate_out_db_name\": \"good\",\n",
            "    \"validate_version\": \"1.4\",\n",
            "    \"validate_warning_types\": [\n",
            "        \"W03\",\n",
            "        \"W06\"\n",
            "    ],\n",
            "    \"validate_warnings\": [\n",
            "        \"/var/www/astroconda.org/html/aux/vo_databases/daily_20230921/results/78/a8/966dc94b2099b663d5f839c4d89c/vo.xml:46:4: W06: Invalid UCD 'POS_EQ_RA_MAIN': Unknown word 'POS_EQ_RA_MAIN'\",\n",
            "        \"/var/www/astroconda.org/html/aux/vo_databases/daily_20230921/results/78/a8/966dc94b2099b663d5f839c4d89c/vo.xml:49:4: W06: Invalid UCD 'POS_EQ_DEC_MAIN': Unknown word 'POS_EQ_DEC_MAIN'\",\n",
            "        \"/var/www/astroconda.org/html/aux/vo_databases/daily_20230921/results/78/a8/966dc94b2099b663d5f839c4d89c/vo.xml:61:4: W03: Implicitly generating an ID from a name '2MASS' -> '_2MASS'\",\n",
            "        \"/var/www/astroconda.org/html/aux/vo_databases/daily_20230921/results/78/a8/966dc94b2099b663d5f839c4d89c/vo.xml:61:4: W06: Invalid UCD 'ID_MAIN': Unknown word 'ID_MAIN'\",\n",
            "        \"/var/www/astroconda.org/html/aux/vo_databases/daily_20230921/results/78/a8/966dc94b2099b663d5f839c4d89c/vo.xml:152:4: W06: Invalid UCD 'obs.field': Secondary word 'obs.field' is not valid as a primary word\",\n",
            "        \"/var/www/astroconda.org/html/aux/vo_databases/daily_20230921/results/78/a8/966dc94b2099b663d5f839c4d89c/vo.xml:161:4: W06: Invalid UCD 'pos.cartesian;instr.det': Secondary word 'pos.cartesian' is not valid as a primary word\",\n",
            "        \"/var/www/astroconda.org/html/aux/vo_databases/daily_20230921/results/78/a8/966dc94b2099b663d5f839c4d89c/vo.xml:209:4: W06: Invalid UCD 'pos.cartesian;instr.det': Secondary word 'pos.cartesian' is not valid as a primary word\",\n",
            "        \"/var/www/astroconda.org/html/aux/vo_databases/daily_20230921/results/78/a8/966dc94b2099b663d5f839c4d89c/vo.xml:46:4: W06: Invalid UCD 'POS_EQ_RA_MAIN': Unknown word 'POS_EQ_RA_MAIN'\",\n",
            "        \"/var/www/astroconda.org/html/aux/vo_databases/daily_20230921/results/78/a8/966dc94b2099b663d5f839c4d89c/vo.xml:49:4: W06: Invalid UCD 'POS_EQ_DEC_MAIN': Unknown word 'POS_EQ_DEC_MAIN'\",\n",
            "        \"/var/www/astroconda.org/html/aux/vo_databases/daily_20230921/results/78/a8/966dc94b2099b663d5f839c4d89c/vo.xml:61:4: W03: Implicitly generating an ID from a name '2MASS' -> '_2MASS'\",\n",
            "        \"/var/www/astroconda.org/html/aux/vo_databases/daily_20230921/results/78/a8/966dc94b2099b663d5f839c4d89c/vo.xml:61:4: W06: Invalid UCD 'ID_MAIN': Unknown word 'ID_MAIN'\",\n",
            "        \"/var/www/astroconda.org/html/aux/vo_databases/daily_20230921/results/78/a8/966dc94b2099b663d5f839c4d89c/vo.xml:152:4: W06: Invalid UCD 'obs.field': Secondary word 'obs.field' is not valid as a primary word\",\n",
            "        \"/var/www/astroconda.org/html/aux/vo_databases/daily_20230921/results/78/a8/966dc94b2099b663d5f839c4d89c/vo.xml:161:4: W06: Invalid UCD 'pos.cartesian;instr.det': Secondary word 'pos.cartesian' is not valid as a primary word\",\n",
            "        \"/var/www/astroconda.org/html/aux/vo_databases/daily_20230921/results/78/a8/966dc94b2099b663d5f839c4d89c/vo.xml:209:4: W06: Invalid UCD 'pos.cartesian;instr.det': Secondary word 'pos.cartesian' is not valid as a primary word\"\n",
            "    ],\n",
            "    \"validate_xmllint\": false,\n",
            "    \"validate_xmllint_content\": \"/var/www/astroconda.org/html/aux/vo_databases/daily_20230921/results/78/a8/966dc94b2099b663d5f839c4d89c/vo.xml:4: element VOTABLE: Schemas validity error : Element '{http://www.ivoa.net/xml/VOTable/v1.3}VOTABLE': No matching global declaration available for the validation root.\\n/var/www/astroconda.org/html/aux/vo_databases/daily_20230921/results/78/a8/966dc94b2099b663d5f839c4d89c/vo.xml fails to validate\\n\",\n",
            "    \"waveband\": \"infrared\",\n",
            "    \"wsdl_url\": \"\"\n",
            "}\n"
          ]
        }
      ]
    },
    {
      "cell_type": "markdown",
      "source": [
        "If you have a favorite catalog in mind, you can also perform Cone Search only on that catalog. A list of available catalogs can be obtained by calling conesearch.list_catalogs(), as mentioned above. For example 'The USNO-A2.0 Catalogue 1'"
      ],
      "metadata": {
        "id": "BVYEr57Suy99"
      }
    },
    {
      "cell_type": "code",
      "source": [
        "try:\n",
        "    result = conesearch.conesearch(\n",
        "        c, 0.1 * u.degree, catalog_db='Gaia DR2 5')\n",
        "except Exception as e:\n",
        "    # We provide a cached version of the result table in case the query fails\n",
        "    # due to an intermittent server-side issue, or if you do not have an\n",
        "    # internet connection\n",
        "    result = Table.read('usno-A2-result.fits')\n",
        "\n",
        "print('Number of rows is', len(result))"
      ],
      "metadata": {
        "id": "34r-aGcuvnGH",
        "outputId": "97190602-a4da-4441-ec8b-9e066b2d940c",
        "colab": {
          "base_uri": "https://localhost:8080/"
        }
      },
      "execution_count": null,
      "outputs": [
        {
          "output_type": "stream",
          "name": "stdout",
          "text": [
            "Trying http://vizier.unistra.fr/viz-bin/conesearch/I/345/gaia2?\n",
            "Number of rows is 2073\n"
          ]
        }
      ]
    },
    {
      "cell_type": "markdown",
      "source": [
        "\n",
        "\n",
        "Let's explore the 3 rows of astronomical objects found within 0.1 degree of M31 in the given catalog and sort them by increasing distance. For this example, the VO table has several columns that might include:\n",
        "\n",
        "    _r = Angular distance (in degrees) between object and M31\n",
        "    USNO-A2.0 = Catalog ID of the object\n",
        "    RAJ2000 = Right ascension of the object (epoch=J2000)\n",
        "    DEJ2000 = Declination of the object (epoch=J2000)\n",
        "\n",
        "Note that column names, meanings, order, etc. might vary from catalog to catalog.\n"
      ],
      "metadata": {
        "id": "uz8GQdrKv3D0"
      }
    },
    {
      "cell_type": "code",
      "source": [
        "col_names = result.colnames\n",
        "print(col_names)\n",
        "\n"
      ],
      "metadata": {
        "id": "U9w-K6dQvxJP",
        "outputId": "16659f1f-8b11-4cc1-bfc9-d706b5eccb1f",
        "colab": {
          "base_uri": "https://localhost:8080/"
        }
      },
      "execution_count": null,
      "outputs": [
        {
          "output_type": "stream",
          "name": "stdout",
          "text": [
            "['_r', 'DR2Name', 'RA_ICRS', 'e_RA_ICRS', 'DE_ICRS', 'e_DE_ICRS', 'SolID', 'Source', 'RandomI', 'Epoch', 'Plx', 'e_Plx', 'RPlx', 'pmRA', 'e_pmRA', 'pmDE', 'e_pmDE', 'RADEcor', 'RAPlxcor', 'RApmRAcor', 'RApmDEcor', 'DEPlxcor', 'DEpmRAcor', 'DEpmDEcor', 'PlxpmRAcor', 'PlxpmDEcor', 'pmRApmDEcor', 'NAL', 'NAC', 'NgAL', 'NbAL', 'gofAL', 'chi2AL', 'epsi', 'sepsi', 'Solved', 'APF', 'WAL', 'pscol', 'e_pscol', 'fvarpi', 'MatchObsA', 'Nper', 'amax', 'type', 'MatchObs', 'Dup', 'o_Gmag', 'FG', 'e_FG', 'RFG', 'Gmag', 'e_Gmag', 'o_BPmag', 'FBP', 'e_FBP', 'RFBP', 'BPmag', 'e_BPmag', 'o_RPmag', 'FRP', 'e_FRP', 'RFRP', 'RPmag', 'e_RPmag', 'E_BR_RP_', 'Mode', 'BP-RP', 'BP-G', 'G-RP', 'RV', 'e_RV', 'o_RV', 'Tefftemp', 'loggtemp', '__Fe_H_temp', 'Var', 'GLON', 'GLAT', 'ELON', 'ELAT', 'fPriam', 'Teff', 'b_Teff', 'B_Teff', 'AG', 'b_AG', 'B_AG', 'E_BP-RP_', 'b_E_BP-RP_', 'B_E_BP-RP_', 'fFLAME', 'Rad', 'b_Rad', 'B_Rad', 'Lum', 'b_Lum', 'B_Lum', 'RAJ2000', 'e_RAJ2000', 'DEJ2000', 'e_DEJ2000']\n"
          ]
        }
      ]
    },
    {
      "cell_type": "code",
      "source": [
        "# Before sort\n",
        "print(result)\n",
        "\n"
      ],
      "metadata": {
        "id": "l2qwtdAvv7ly",
        "outputId": "40b71bf9-8055-4fa1-8373-7295d2513b2c",
        "colab": {
          "base_uri": "https://localhost:8080/"
        }
      },
      "execution_count": null,
      "outputs": [
        {
          "output_type": "stream",
          "name": "stdout",
          "text": [
            "   _r              DR2Name           ...     DEJ2000     e_DEJ2000\n",
            "                                     ...       deg          mas   \n",
            "-------- --------------------------- ... --------------- ---------\n",
            "0.096223 Gaia DR2 458359292089827840 ...  57.03965985910   11.1275\n",
            "0.096319 Gaia DR2 458359292091041664 ...  57.03924865660   51.4515\n",
            "0.099321 Gaia DR2 458359287787266560 ...  57.03566215230   11.9481\n",
            "0.096511 Gaia DR2 458359425226232064 ...  57.04460165390    2.9691\n",
            "0.097596 Gaia DR2 458359429528742784 ...  57.04377674720   10.8537\n",
            "0.089052 Gaia DR2 458359429533744128 ...  57.05512028800    1.5387\n",
            "0.084643 Gaia DR2 458359429533750272 ...  57.05391863690    8.7103\n",
            "0.085930 Gaia DR2 458359429533750016 ...  57.05364700240    2.4794\n",
            "0.086203 Gaia DR2 458359429528702592 ...  57.05357359160    3.5533\n",
            "0.090446 Gaia DR2 458359429533747584 ...  57.05332661980    3.6284\n",
            "     ...                         ... ...             ...       ...\n",
            "0.085671 Gaia DR2 458469964811496576 ...  57.21501978640   18.1036\n",
            "0.092234 Gaia DR2 458469964811495040 ...  57.21984866360    1.4234\n",
            "0.093124 Gaia DR2 458469964811490688 ...  57.22388794480    5.7950\n",
            "0.094307 Gaia DR2 458469964811492352 ...  57.22362676330    2.9825\n",
            "0.097502 Gaia DR2 458469960508088576 ...  57.22618444100   12.7861\n",
            "0.090577 Gaia DR2 458469994867826816 ...  57.22219802970   21.7144\n",
            "0.089458 Gaia DR2 458469960507853824 ...  57.22032905850    2.9301\n",
            "0.097753 Gaia DR2 458469999165718528 ...  57.22951717200   27.1877\n",
            "0.096318 Gaia DR2 458469960507854848 ...  57.22572840180   12.7262\n",
            "0.087254 Gaia DR2 458469960507853568 ...  57.21624938950    7.5167\n",
            "Length = 2073 rows\n"
          ]
        }
      ]
    },
    {
      "cell_type": "code",
      "source": [
        "# After sort\n",
        "result.sort('_r')\n",
        "print(result)\n",
        "\n"
      ],
      "metadata": {
        "id": "PzdoKO1sv_C4",
        "outputId": "b611ff21-fba5-44b8-ae2f-46d8712d3282",
        "colab": {
          "base_uri": "https://localhost:8080/"
        }
      },
      "execution_count": null,
      "outputs": [
        {
          "output_type": "stream",
          "name": "stdout",
          "text": [
            "   _r              DR2Name           ...     DEJ2000     e_DEJ2000\n",
            "                                     ...       deg          mas   \n",
            "-------- --------------------------- ... --------------- ---------\n",
            "0.000766 Gaia DR2 458363896296885376 ...  57.13226646000    2.1942\n",
            "0.005141 Gaia DR2 458363136084498560 ...  57.13223623740   24.7355\n",
            "0.005585 Gaia DR2 458363140379983744 ...  57.12937397270   13.2541\n",
            "0.005958 Gaia DR2 458363891991250688 ...  57.13895337230   10.3619\n",
            "0.006134 Gaia DR2 458363896296242816 ...  57.13748525720    1.2949\n",
            "0.006402 Gaia DR2 458363896294211840 ...  57.13469631520   14.0826\n",
            "0.006974 Gaia DR2 458363861936569088 ...  57.12687665900   52.8019\n",
            "0.007588 Gaia DR2 458363140385394432 ...  57.13033874060    1.0390\n",
            "0.008032 Gaia DR2 458363861936504192 ...  57.12851561950    6.5041\n",
            "0.008486 Gaia DR2 458363243461213312 ...  57.13661044790   27.2034\n",
            "     ...                         ... ...             ...       ...\n",
            "0.099840 Gaia DR2 458360971414447616 ...  57.03755158400   12.8706\n",
            "0.099845 Gaia DR2 458373894983563776 ...  57.10345647140   12.3990\n",
            "0.099868 Gaia DR2 458361765995973760 ...  57.06132104920    1.5448\n",
            "0.099870 Gaia DR2 458457423501639424 ...  57.18642589450   35.2981\n",
            "0.099875 Gaia DR2 458458316860175360 ...  57.23216289390    3.2189\n",
            "0.099960 Gaia DR2 458359704406333184 ...  57.08365240100    8.7315\n",
            "0.099961 Gaia DR2 458375849183500160 ...  57.18445253380    1.4908\n",
            "0.099970 Gaia DR2 458362212672591872 ...  57.03304180640    2.0549\n",
            "0.099973 Gaia DR2 458375819128827520 ...  57.17701513300   10.5314\n",
            "0.099998 Gaia DR2 458458488653559296 ...  57.22564616250   40.7565\n",
            "Length = 2073 rows\n"
          ]
        }
      ]
    },
    {
      "cell_type": "markdown",
      "source": [
        "Now let's do some astrophysics. Suppose we wanted to make a plot"
      ],
      "metadata": {
        "id": "dyudOnpcwJzl"
      }
    },
    {
      "cell_type": "markdown",
      "source": [
        "\n",
        "\n",
        "**Part 1)**\n",
        "\n",
        "Let's look at stars in the  Perseus OB-1 double cluster.\n",
        "\n",
        "\n",
        "\n",
        "1.  We're going to do a cone search of stars in the Gaia catalog ('Gaia DR2 5') and save to an ascii. Note that the search needs a name in the proper format so we're looking for NGC 869/884 which is one catalog name of the double cluster.\n",
        "2.    It's pretty large but let's look within a tenth of a degree of the the cluster.\n",
        "3.  To get the commands, use the examples we just did as a starting point. Also, print the column names as it will help you later. (see the result = consearch...) steps earlier in the tutorial.\n",
        "4. Also you will probably want to print the column names to help with later steps.\n"
      ],
      "metadata": {
        "id": "hWx7-f6_wKBV"
      }
    },
    {
      "cell_type": "markdown",
      "source": [
        "Let's save this as a csv."
      ],
      "metadata": {
        "id": "wu6Vdg3wztNm"
      }
    },
    {
      "cell_type": "code",
      "source": [
        "result.write('my_result.csv', format='ascii.csv', overwrite=True)"
      ],
      "metadata": {
        "id": "-z4F1Di-yx47"
      },
      "execution_count": null,
      "outputs": []
    },
    {
      "cell_type": "markdown",
      "source": [
        "Now let's read it. Note that if had a downloaded csv it might be a different command. See https://learn.astropy.org/tutorials/plot-catalog.html."
      ],
      "metadata": {
        "id": "jBgssmVzzwWp"
      }
    },
    {
      "cell_type": "code",
      "source": [
        "data = Table.read(\"my_result.csv\")"
      ],
      "metadata": {
        "id": "6EZBv9eyzZUV"
      },
      "execution_count": null,
      "outputs": []
    },
    {
      "cell_type": "markdown",
      "source": [
        "Let's see the parallax column. You can use the command below to access the parallax column. The general syntax is data['*colname*'] where colname is the column you want to access using the naming we found when we printed the column names."
      ],
      "metadata": {
        "id": "aAOqN5sX0mD8"
      }
    },
    {
      "cell_type": "code",
      "source": [
        "data['Plx']"
      ],
      "metadata": {
        "id": "fnpOrEd4zehv",
        "outputId": "321b5cfe-50c0-4266-b4bc-bee4bdd81be1",
        "colab": {
          "base_uri": "https://localhost:8080/",
          "height": 570
        }
      },
      "execution_count": null,
      "outputs": [
        {
          "output_type": "execute_result",
          "data": {
            "text/plain": [
              "<MaskedColumn name='Plx' dtype='float64' length=2073>\n",
              "     --\n",
              " -0.556\n",
              " 0.7349\n",
              " 0.6011\n",
              "     --\n",
              "-0.5342\n",
              " 0.7872\n",
              " 0.9839\n",
              "     --\n",
              " 0.7594\n",
              " 0.5118\n",
              " 0.4344\n",
              "    ...\n",
              " 0.4533\n",
              "-0.3207\n",
              " 0.6021\n",
              " 1.0845\n",
              " 0.5206\n",
              "-0.3469\n",
              " 0.5271\n",
              " 0.5418\n",
              " 0.4391\n",
              "  0.485\n",
              "-0.3289\n",
              " 0.1705"
            ],
            "text/html": [
              "&lt;MaskedColumn name=&apos;Plx&apos; dtype=&apos;float64&apos; length=2073&gt;\n",
              "<table>\n",
              "<tr><td>--</td></tr>\n",
              "<tr><td>-0.556</td></tr>\n",
              "<tr><td>0.7349</td></tr>\n",
              "<tr><td>0.6011</td></tr>\n",
              "<tr><td>--</td></tr>\n",
              "<tr><td>-0.5342</td></tr>\n",
              "<tr><td>0.7872</td></tr>\n",
              "<tr><td>0.9839</td></tr>\n",
              "<tr><td>--</td></tr>\n",
              "<tr><td>0.7594</td></tr>\n",
              "<tr><td>0.5118</td></tr>\n",
              "<tr><td>0.4344</td></tr>\n",
              "<tr><td>...</td></tr>\n",
              "<tr><td>0.4533</td></tr>\n",
              "<tr><td>-0.3207</td></tr>\n",
              "<tr><td>0.6021</td></tr>\n",
              "<tr><td>1.0845</td></tr>\n",
              "<tr><td>0.5206</td></tr>\n",
              "<tr><td>-0.3469</td></tr>\n",
              "<tr><td>0.5271</td></tr>\n",
              "<tr><td>0.5418</td></tr>\n",
              "<tr><td>0.4391</td></tr>\n",
              "<tr><td>0.485</td></tr>\n",
              "<tr><td>-0.3289</td></tr>\n",
              "<tr><td>0.1705</td></tr>\n",
              "</table>"
            ]
          },
          "metadata": {},
          "execution_count": 39
        }
      ]
    },
    {
      "cell_type": "markdown",
      "source": [
        "Note that we need to get rid of the negative parallaxes which are not physical. In reality we should figure out why they're negative but for now we'll just skip them. Use the command below."
      ],
      "metadata": {
        "id": "WU_HOwI1iejQ"
      }
    },
    {
      "cell_type": "code",
      "source": [
        "data_clean=data[data[\"Plx\"]>=0]"
      ],
      "metadata": {
        "id": "podyCAyyiqzE"
      },
      "execution_count": null,
      "outputs": []
    },
    {
      "cell_type": "markdown",
      "source": [
        "**Part 2**\n",
        "\n",
        "\n",
        "1.   Covert the parallax column to distance in parsecs. Note that the unit of parallax for Gaia is mas (milli-arcsecond).\n",
        "2.   In a cell below print the first three and last three distances in the table (that is distance of stars 0-2 and -3->-1).  The syntax is array[0:2] for the first three and array[-3:-1] for the last three. Python starts counting at 0, so entry 1 is cell 0. Likewise, to access cells we can also use reverse counting where the last cell is [-1]."
      ],
      "metadata": {
        "id": "zuSSrNvs0zPY"
      }
    },
    {
      "cell_type": "code",
      "source": [
        "mac = data_clean[\"Plx\"]\n",
        "macf = mac[1:2]\n",
        "acf = macf * 1000\n",
        "pcf = 1/(acf)\n",
        "macb = mac[-4:-1]\n",
        "acb = macb * 1000\n",
        "pcb = 1/acb\n",
        "pc = [pcf][pcb]\n",
        "print(pc)"
      ],
      "metadata": {
        "id": "StYxSsV7NVsV",
        "outputId": "0f713e72-7f1e-4aee-adf2-7a4b631f4115",
        "colab": {
          "base_uri": "https://localhost:8080/",
          "height": 227
        }
      },
      "execution_count": null,
      "outputs": [
        {
          "output_type": "error",
          "ename": "TypeError",
          "evalue": "ignored",
          "traceback": [
            "\u001b[0;31m---------------------------------------------------------------------------\u001b[0m",
            "\u001b[0;31mTypeError\u001b[0m                                 Traceback (most recent call last)",
            "\u001b[0;32m<ipython-input-115-3d30a0390756>\u001b[0m in \u001b[0;36m<cell line: 8>\u001b[0;34m()\u001b[0m\n\u001b[1;32m      6\u001b[0m \u001b[0macb\u001b[0m \u001b[0;34m=\u001b[0m \u001b[0mmacb\u001b[0m \u001b[0;34m*\u001b[0m \u001b[0;36m1000\u001b[0m\u001b[0;34m\u001b[0m\u001b[0;34m\u001b[0m\u001b[0m\n\u001b[1;32m      7\u001b[0m \u001b[0mpcb\u001b[0m \u001b[0;34m=\u001b[0m \u001b[0;36m1\u001b[0m\u001b[0;34m/\u001b[0m\u001b[0macb\u001b[0m\u001b[0;34m\u001b[0m\u001b[0;34m\u001b[0m\u001b[0m\n\u001b[0;32m----> 8\u001b[0;31m \u001b[0mpc\u001b[0m \u001b[0;34m=\u001b[0m \u001b[0;34m[\u001b[0m\u001b[0mpcf\u001b[0m\u001b[0;34m]\u001b[0m\u001b[0;34m[\u001b[0m\u001b[0mpcb\u001b[0m\u001b[0;34m]\u001b[0m\u001b[0;34m\u001b[0m\u001b[0;34m\u001b[0m\u001b[0m\n\u001b[0m\u001b[1;32m      9\u001b[0m \u001b[0mprint\u001b[0m\u001b[0;34m(\u001b[0m\u001b[0mpc\u001b[0m\u001b[0;34m)\u001b[0m\u001b[0;34m\u001b[0m\u001b[0;34m\u001b[0m\u001b[0m\n",
            "\u001b[0;31mTypeError\u001b[0m: only integer scalar arrays can be converted to a scalar index"
          ]
        }
      ]
    },
    {
      "cell_type": "markdown",
      "source": [
        "**Part 3**\n",
        "Oh no! Not all the distances are the same as we'd expect for a star cluster (we'll talk about that!). I wonder if there's a difference between stars in the cluster and stars outside of it.\n",
        "\n",
        "\n",
        "1.   Let's plot Right Ascension (RAJ2000) vs Declination (DEJ2000) and use distance  as a color axis to see if we ca find where those stars are.\n",
        "\n",
        " I have the paritial code below but it needs you to have calculated distance. Note we have to use log10 because of the spread between distances. Note, if you gave the distance variable a different name, you'll need to modify this."
      ],
      "metadata": {
        "id": "Ppv6KVM72BWA"
      }
    },
    {
      "cell_type": "code",
      "source": [
        "plt.scatter(data_clean[\"RAJ2000\"],data_clean[\"DEJ2000\"],c=np.log10(pc)) # plot J-K vs. J\n",
        "cbar=plt.colorbar()\n",
        "cbar.set_label('Log10(Distance)')\n",
        "plt.ylim(reversed(plt.ylim())) # flip the y-axis\n",
        "plt.xlabel(\"RA (deg)\", fontsize=20)\n",
        "plt.ylabel(\"DEC (deg)\", fontsize=20)\n",
        "\n"
      ],
      "metadata": {
        "id": "rBRggKjE1LuA",
        "outputId": "054d0839-a56c-4476-b462-6b318a16881c",
        "colab": {
          "base_uri": "https://localhost:8080/",
          "height": 808
        }
      },
      "execution_count": null,
      "outputs": [
        {
          "output_type": "error",
          "ename": "ValueError",
          "evalue": "ignored",
          "traceback": [
            "\u001b[0;31m---------------------------------------------------------------------------\u001b[0m",
            "\u001b[0;31mValueError\u001b[0m                                Traceback (most recent call last)",
            "\u001b[0;32m<ipython-input-92-5be164f88476>\u001b[0m in \u001b[0;36m<cell line: 1>\u001b[0;34m()\u001b[0m\n\u001b[0;32m----> 1\u001b[0;31m \u001b[0mplt\u001b[0m\u001b[0;34m.\u001b[0m\u001b[0mscatter\u001b[0m\u001b[0;34m(\u001b[0m\u001b[0mdata_clean\u001b[0m\u001b[0;34m[\u001b[0m\u001b[0;34m\"RAJ2000\"\u001b[0m\u001b[0;34m]\u001b[0m\u001b[0;34m,\u001b[0m\u001b[0mdata_clean\u001b[0m\u001b[0;34m[\u001b[0m\u001b[0;34m\"DEJ2000\"\u001b[0m\u001b[0;34m]\u001b[0m\u001b[0;34m,\u001b[0m\u001b[0mc\u001b[0m\u001b[0;34m=\u001b[0m\u001b[0mnp\u001b[0m\u001b[0;34m.\u001b[0m\u001b[0mlog10\u001b[0m\u001b[0;34m(\u001b[0m\u001b[0mpc\u001b[0m\u001b[0;34m)\u001b[0m\u001b[0;34m)\u001b[0m \u001b[0;31m# plot J-K vs. J\u001b[0m\u001b[0;34m\u001b[0m\u001b[0;34m\u001b[0m\u001b[0m\n\u001b[0m\u001b[1;32m      2\u001b[0m \u001b[0mcbar\u001b[0m\u001b[0;34m=\u001b[0m\u001b[0mplt\u001b[0m\u001b[0;34m.\u001b[0m\u001b[0mcolorbar\u001b[0m\u001b[0;34m(\u001b[0m\u001b[0;34m)\u001b[0m\u001b[0;34m\u001b[0m\u001b[0;34m\u001b[0m\u001b[0m\n\u001b[1;32m      3\u001b[0m \u001b[0mcbar\u001b[0m\u001b[0;34m.\u001b[0m\u001b[0mset_label\u001b[0m\u001b[0;34m(\u001b[0m\u001b[0;34m'Log10(Distance)'\u001b[0m\u001b[0;34m)\u001b[0m\u001b[0;34m\u001b[0m\u001b[0;34m\u001b[0m\u001b[0m\n\u001b[1;32m      4\u001b[0m \u001b[0mplt\u001b[0m\u001b[0;34m.\u001b[0m\u001b[0mylim\u001b[0m\u001b[0;34m(\u001b[0m\u001b[0mreversed\u001b[0m\u001b[0;34m(\u001b[0m\u001b[0mplt\u001b[0m\u001b[0;34m.\u001b[0m\u001b[0mylim\u001b[0m\u001b[0;34m(\u001b[0m\u001b[0;34m)\u001b[0m\u001b[0;34m)\u001b[0m\u001b[0;34m)\u001b[0m \u001b[0;31m# flip the y-axis\u001b[0m\u001b[0;34m\u001b[0m\u001b[0;34m\u001b[0m\u001b[0m\n\u001b[1;32m      5\u001b[0m \u001b[0mplt\u001b[0m\u001b[0;34m.\u001b[0m\u001b[0mxlabel\u001b[0m\u001b[0;34m(\u001b[0m\u001b[0;34m\"RA (deg)\"\u001b[0m\u001b[0;34m,\u001b[0m \u001b[0mfontsize\u001b[0m\u001b[0;34m=\u001b[0m\u001b[0;36m20\u001b[0m\u001b[0;34m)\u001b[0m\u001b[0;34m\u001b[0m\u001b[0;34m\u001b[0m\u001b[0m\n",
            "\u001b[0;32m/usr/local/lib/python3.10/dist-packages/matplotlib/pyplot.py\u001b[0m in \u001b[0;36mscatter\u001b[0;34m(x, y, s, c, marker, cmap, norm, vmin, vmax, alpha, linewidths, edgecolors, plotnonfinite, data, **kwargs)\u001b[0m\n\u001b[1;32m   2860\u001b[0m         \u001b[0mvmin\u001b[0m\u001b[0;34m=\u001b[0m\u001b[0;32mNone\u001b[0m\u001b[0;34m,\u001b[0m \u001b[0mvmax\u001b[0m\u001b[0;34m=\u001b[0m\u001b[0;32mNone\u001b[0m\u001b[0;34m,\u001b[0m \u001b[0malpha\u001b[0m\u001b[0;34m=\u001b[0m\u001b[0;32mNone\u001b[0m\u001b[0;34m,\u001b[0m \u001b[0mlinewidths\u001b[0m\u001b[0;34m=\u001b[0m\u001b[0;32mNone\u001b[0m\u001b[0;34m,\u001b[0m \u001b[0;34m*\u001b[0m\u001b[0;34m,\u001b[0m\u001b[0;34m\u001b[0m\u001b[0;34m\u001b[0m\u001b[0m\n\u001b[1;32m   2861\u001b[0m         edgecolors=None, plotnonfinite=False, data=None, **kwargs):\n\u001b[0;32m-> 2862\u001b[0;31m     __ret = gca().scatter(\n\u001b[0m\u001b[1;32m   2863\u001b[0m         \u001b[0mx\u001b[0m\u001b[0;34m,\u001b[0m \u001b[0my\u001b[0m\u001b[0;34m,\u001b[0m \u001b[0ms\u001b[0m\u001b[0;34m=\u001b[0m\u001b[0ms\u001b[0m\u001b[0;34m,\u001b[0m \u001b[0mc\u001b[0m\u001b[0;34m=\u001b[0m\u001b[0mc\u001b[0m\u001b[0;34m,\u001b[0m \u001b[0mmarker\u001b[0m\u001b[0;34m=\u001b[0m\u001b[0mmarker\u001b[0m\u001b[0;34m,\u001b[0m \u001b[0mcmap\u001b[0m\u001b[0;34m=\u001b[0m\u001b[0mcmap\u001b[0m\u001b[0;34m,\u001b[0m \u001b[0mnorm\u001b[0m\u001b[0;34m=\u001b[0m\u001b[0mnorm\u001b[0m\u001b[0;34m,\u001b[0m\u001b[0;34m\u001b[0m\u001b[0;34m\u001b[0m\u001b[0m\n\u001b[1;32m   2864\u001b[0m         \u001b[0mvmin\u001b[0m\u001b[0;34m=\u001b[0m\u001b[0mvmin\u001b[0m\u001b[0;34m,\u001b[0m \u001b[0mvmax\u001b[0m\u001b[0;34m=\u001b[0m\u001b[0mvmax\u001b[0m\u001b[0;34m,\u001b[0m \u001b[0malpha\u001b[0m\u001b[0;34m=\u001b[0m\u001b[0malpha\u001b[0m\u001b[0;34m,\u001b[0m \u001b[0mlinewidths\u001b[0m\u001b[0;34m=\u001b[0m\u001b[0mlinewidths\u001b[0m\u001b[0;34m,\u001b[0m\u001b[0;34m\u001b[0m\u001b[0;34m\u001b[0m\u001b[0m\n",
            "\u001b[0;32m/usr/local/lib/python3.10/dist-packages/matplotlib/__init__.py\u001b[0m in \u001b[0;36minner\u001b[0;34m(ax, data, *args, **kwargs)\u001b[0m\n\u001b[1;32m   1440\u001b[0m     \u001b[0;32mdef\u001b[0m \u001b[0minner\u001b[0m\u001b[0;34m(\u001b[0m\u001b[0max\u001b[0m\u001b[0;34m,\u001b[0m \u001b[0;34m*\u001b[0m\u001b[0margs\u001b[0m\u001b[0;34m,\u001b[0m \u001b[0mdata\u001b[0m\u001b[0;34m=\u001b[0m\u001b[0;32mNone\u001b[0m\u001b[0;34m,\u001b[0m \u001b[0;34m**\u001b[0m\u001b[0mkwargs\u001b[0m\u001b[0;34m)\u001b[0m\u001b[0;34m:\u001b[0m\u001b[0;34m\u001b[0m\u001b[0;34m\u001b[0m\u001b[0m\n\u001b[1;32m   1441\u001b[0m         \u001b[0;32mif\u001b[0m \u001b[0mdata\u001b[0m \u001b[0;32mis\u001b[0m \u001b[0;32mNone\u001b[0m\u001b[0;34m:\u001b[0m\u001b[0;34m\u001b[0m\u001b[0;34m\u001b[0m\u001b[0m\n\u001b[0;32m-> 1442\u001b[0;31m             \u001b[0;32mreturn\u001b[0m \u001b[0mfunc\u001b[0m\u001b[0;34m(\u001b[0m\u001b[0max\u001b[0m\u001b[0;34m,\u001b[0m \u001b[0;34m*\u001b[0m\u001b[0mmap\u001b[0m\u001b[0;34m(\u001b[0m\u001b[0msanitize_sequence\u001b[0m\u001b[0;34m,\u001b[0m \u001b[0margs\u001b[0m\u001b[0;34m)\u001b[0m\u001b[0;34m,\u001b[0m \u001b[0;34m**\u001b[0m\u001b[0mkwargs\u001b[0m\u001b[0;34m)\u001b[0m\u001b[0;34m\u001b[0m\u001b[0;34m\u001b[0m\u001b[0m\n\u001b[0m\u001b[1;32m   1443\u001b[0m \u001b[0;34m\u001b[0m\u001b[0m\n\u001b[1;32m   1444\u001b[0m         \u001b[0mbound\u001b[0m \u001b[0;34m=\u001b[0m \u001b[0mnew_sig\u001b[0m\u001b[0;34m.\u001b[0m\u001b[0mbind\u001b[0m\u001b[0;34m(\u001b[0m\u001b[0max\u001b[0m\u001b[0;34m,\u001b[0m \u001b[0;34m*\u001b[0m\u001b[0margs\u001b[0m\u001b[0;34m,\u001b[0m \u001b[0;34m**\u001b[0m\u001b[0mkwargs\u001b[0m\u001b[0;34m)\u001b[0m\u001b[0;34m\u001b[0m\u001b[0;34m\u001b[0m\u001b[0m\n",
            "\u001b[0;32m/usr/local/lib/python3.10/dist-packages/matplotlib/axes/_axes.py\u001b[0m in \u001b[0;36mscatter\u001b[0;34m(self, x, y, s, c, marker, cmap, norm, vmin, vmax, alpha, linewidths, edgecolors, plotnonfinite, **kwargs)\u001b[0m\n\u001b[1;32m   4600\u001b[0m             \u001b[0morig_edgecolor\u001b[0m \u001b[0;34m=\u001b[0m \u001b[0mkwargs\u001b[0m\u001b[0;34m.\u001b[0m\u001b[0mget\u001b[0m\u001b[0;34m(\u001b[0m\u001b[0;34m'edgecolor'\u001b[0m\u001b[0;34m,\u001b[0m \u001b[0;32mNone\u001b[0m\u001b[0;34m)\u001b[0m\u001b[0;34m\u001b[0m\u001b[0;34m\u001b[0m\u001b[0m\n\u001b[1;32m   4601\u001b[0m         \u001b[0mc\u001b[0m\u001b[0;34m,\u001b[0m \u001b[0mcolors\u001b[0m\u001b[0;34m,\u001b[0m \u001b[0medgecolors\u001b[0m \u001b[0;34m=\u001b[0m\u001b[0;31m \u001b[0m\u001b[0;31m\\\u001b[0m\u001b[0;34m\u001b[0m\u001b[0;34m\u001b[0m\u001b[0m\n\u001b[0;32m-> 4602\u001b[0;31m             self._parse_scatter_color_args(\n\u001b[0m\u001b[1;32m   4603\u001b[0m                 \u001b[0mc\u001b[0m\u001b[0;34m,\u001b[0m \u001b[0medgecolors\u001b[0m\u001b[0;34m,\u001b[0m \u001b[0mkwargs\u001b[0m\u001b[0;34m,\u001b[0m \u001b[0mx\u001b[0m\u001b[0;34m.\u001b[0m\u001b[0msize\u001b[0m\u001b[0;34m,\u001b[0m\u001b[0;34m\u001b[0m\u001b[0;34m\u001b[0m\u001b[0m\n\u001b[1;32m   4604\u001b[0m                 get_next_color_func=self._get_patches_for_fill.get_next_color)\n",
            "\u001b[0;32m/usr/local/lib/python3.10/dist-packages/matplotlib/axes/_axes.py\u001b[0m in \u001b[0;36m_parse_scatter_color_args\u001b[0;34m(c, edgecolors, kwargs, xsize, get_next_color_func)\u001b[0m\n\u001b[1;32m   4437\u001b[0m         \u001b[0;32mif\u001b[0m \u001b[0;32mnot\u001b[0m \u001b[0mc_is_mapped\u001b[0m\u001b[0;34m:\u001b[0m\u001b[0;34m\u001b[0m\u001b[0;34m\u001b[0m\u001b[0m\n\u001b[1;32m   4438\u001b[0m             \u001b[0;32mtry\u001b[0m\u001b[0;34m:\u001b[0m  \u001b[0;31m# Is 'c' acceptable as PathCollection facecolors?\u001b[0m\u001b[0;34m\u001b[0m\u001b[0;34m\u001b[0m\u001b[0m\n\u001b[0;32m-> 4439\u001b[0;31m                 \u001b[0mcolors\u001b[0m \u001b[0;34m=\u001b[0m \u001b[0mmcolors\u001b[0m\u001b[0;34m.\u001b[0m\u001b[0mto_rgba_array\u001b[0m\u001b[0;34m(\u001b[0m\u001b[0mc\u001b[0m\u001b[0;34m)\u001b[0m\u001b[0;34m\u001b[0m\u001b[0;34m\u001b[0m\u001b[0m\n\u001b[0m\u001b[1;32m   4440\u001b[0m             \u001b[0;32mexcept\u001b[0m \u001b[0;34m(\u001b[0m\u001b[0mTypeError\u001b[0m\u001b[0;34m,\u001b[0m \u001b[0mValueError\u001b[0m\u001b[0;34m)\u001b[0m \u001b[0;32mas\u001b[0m \u001b[0merr\u001b[0m\u001b[0;34m:\u001b[0m\u001b[0;34m\u001b[0m\u001b[0;34m\u001b[0m\u001b[0m\n\u001b[1;32m   4441\u001b[0m                 \u001b[0;32mif\u001b[0m \u001b[0;34m\"RGBA values should be within 0-1 range\"\u001b[0m \u001b[0;32min\u001b[0m \u001b[0mstr\u001b[0m\u001b[0;34m(\u001b[0m\u001b[0merr\u001b[0m\u001b[0;34m)\u001b[0m\u001b[0;34m:\u001b[0m\u001b[0;34m\u001b[0m\u001b[0;34m\u001b[0m\u001b[0m\n",
            "\u001b[0;32m/usr/local/lib/python3.10/dist-packages/matplotlib/colors.py\u001b[0m in \u001b[0;36mto_rgba_array\u001b[0;34m(c, alpha)\u001b[0m\n\u001b[1;32m    452\u001b[0m             \u001b[0mresult\u001b[0m\u001b[0;34m[\u001b[0m\u001b[0mmask\u001b[0m\u001b[0;34m]\u001b[0m \u001b[0;34m=\u001b[0m \u001b[0;36m0\u001b[0m\u001b[0;34m\u001b[0m\u001b[0;34m\u001b[0m\u001b[0m\n\u001b[1;32m    453\u001b[0m         \u001b[0;32mif\u001b[0m \u001b[0mnp\u001b[0m\u001b[0;34m.\u001b[0m\u001b[0many\u001b[0m\u001b[0;34m(\u001b[0m\u001b[0;34m(\u001b[0m\u001b[0mresult\u001b[0m \u001b[0;34m<\u001b[0m \u001b[0;36m0\u001b[0m\u001b[0;34m)\u001b[0m \u001b[0;34m|\u001b[0m \u001b[0;34m(\u001b[0m\u001b[0mresult\u001b[0m \u001b[0;34m>\u001b[0m \u001b[0;36m1\u001b[0m\u001b[0;34m)\u001b[0m\u001b[0;34m)\u001b[0m\u001b[0;34m:\u001b[0m\u001b[0;34m\u001b[0m\u001b[0;34m\u001b[0m\u001b[0m\n\u001b[0;32m--> 454\u001b[0;31m             \u001b[0;32mraise\u001b[0m \u001b[0mValueError\u001b[0m\u001b[0;34m(\u001b[0m\u001b[0;34m\"RGBA values should be within 0-1 range\"\u001b[0m\u001b[0;34m)\u001b[0m\u001b[0;34m\u001b[0m\u001b[0;34m\u001b[0m\u001b[0m\n\u001b[0m\u001b[1;32m    455\u001b[0m         \u001b[0;32mreturn\u001b[0m \u001b[0mresult\u001b[0m\u001b[0;34m\u001b[0m\u001b[0;34m\u001b[0m\u001b[0m\n\u001b[1;32m    456\u001b[0m     \u001b[0;31m# Handle single values.\u001b[0m\u001b[0;34m\u001b[0m\u001b[0;34m\u001b[0m\u001b[0m\n",
            "\u001b[0;31mValueError\u001b[0m: RGBA values should be within 0-1 range"
          ]
        },
        {
          "output_type": "display_data",
          "data": {
            "text/plain": [
              "<Figure size 640x480 with 1 Axes>"
            ],
            "image/png": "[encoded data removed]"
          },
          "metadata": {}
        }
      ]
    },
    {
      "cell_type": "markdown",
      "source": [
        "**Part 4**\n",
        "Okay, so that didn't really help!\n",
        "\n",
        "\n",
        "1.  Try plotting either proper motion (pmRA vs pmDE) or Radial Velocity (RV) vs distance and write about what you observe. Keep distance as a color dimension. Proper motion is the apparent motion of a star whereas radial velocity is the line of sight motion. Stars in a cluster would be expected to have common motion...but even so it's not clear! There are some possible reaons for this.\n",
        "\n",
        "2. After that, make a color-magnitude diagram by plotting BP-RP on X and absolute Gmag on Y. Let's keep distance as the color dimension.  **Keep in mind you'll need to calculate the absolute Gmag using the equaions from class! We'll talk more about what this plot says later in class.**"
      ],
      "metadata": {
        "id": "gkP70zAP5uIa"
      }
    },
    {
      "cell_type": "code",
      "source": [
        "#Code for part 4 goes here"
      ],
      "metadata": {
        "id": "DlIBJ1WjNgRU"
      },
      "execution_count": null,
      "outputs": []
    },
    {
      "cell_type": "markdown",
      "source": [
        "**Part 5**\n",
        "After this we'll do a few more plots.\n",
        "1. Let's plot Temperature (Teff) vs Luminisoity (Lum);\n",
        "2. Radius (Rad) vs Luminosity,\n",
        "3.  Color (BP-RP) vs Teff.\n",
        "4. Write a few sentences about what you observe."
      ],
      "metadata": {
        "id": "4fDDMXDEjcag"
      }
    },
    {
      "cell_type": "code",
      "source": [
        "#code for part 5 goes here"
      ],
      "metadata": {
        "id": "pGBZGwKnNj92"
      },
      "execution_count": null,
      "outputs": []
    },
    {
      "cell_type": "markdown",
      "source": [
        "Answers can go here (click this cell)"
      ],
      "metadata": {
        "id": "RARiG2JCNmew"
      }
    }
  ]
}